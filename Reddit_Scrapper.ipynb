{
  "nbformat": 4,
  "nbformat_minor": 0,
  "metadata": {
    "colab": {
      "provenance": []
    },
    "kernelspec": {
      "name": "python3",
      "display_name": "Python 3"
    },
    "language_info": {
      "name": "python"
    }
  },
  "cells": [
    {
      "cell_type": "code",
      "source": [
        "# Secret key = nPTCszv0ozUmoMNk2XOxkZgsdCxDlA\n",
        "# client ID = i_7yRncgG4rVDk_BaCLg7A"
      ],
      "metadata": {
        "id": "Pe9ZGgbTYCuE"
      },
      "execution_count": null,
      "outputs": []
    },
    {
      "cell_type": "code",
      "source": [
        "pip install asyncpraw"
      ],
      "metadata": {
        "id": "G_swIW94ZkOK"
      },
      "execution_count": null,
      "outputs": []
    },
    {
      "cell_type": "code",
      "source": [
        "import os\n",
        "os.environ[\"REDDIT_CLIENT_ID\"] = \"i_7yRncgG4rVDk_BaCLg7A\"\n",
        "os.environ[\"REDDIT_CLIENT_SECRET\"] = \"nPTCszv0ozUmoMNk2XOxkZgsdCxDlA\"\n",
        "os.environ[\"REDDIT_USER_AGENT\"] = \"Scrapper/1.0 by u/FlyBackground9197\"\n"
      ],
      "metadata": {
        "id": "OCted0CfaAAR"
      },
      "execution_count": 9,
      "outputs": []
    },
    {
      "cell_type": "code",
      "source": [
        "import os\n",
        "import asyncpraw\n",
        "import pandas as pd\n",
        "import nltk\n",
        "from nltk.sentiment.vader import SentimentIntensityAnalyzer\n",
        "import matplotlib.pyplot as plt\n",
        "import seaborn as sns\n",
        "import asyncio\n",
        "import nest_asyncio\n",
        "\n",
        "# Allow asyncio to run inside Jupyter Notebook\n",
        "nest_asyncio.apply()\n",
        "\n",
        "# Download VADER lexicon\n",
        "nltk.download('vader_lexicon')\n",
        "\n",
        "async def fetch_reddit_data(subreddit_name, limit=100):\n",
        "    reddit = asyncpraw.Reddit(\n",
        "        client_id=os.getenv(\"REDDIT_CLIENT_ID\"),\n",
        "        client_secret=os.getenv(\"REDDIT_CLIENT_SECRET\"),\n",
        "        user_agent=os.getenv(\"REDDIT_USER_AGENT\")\n",
        "    )\n",
        "\n",
        "    subreddit = await reddit.subreddit(subreddit_name)\n",
        "    posts = []\n",
        "\n",
        "    async for post in subreddit.hot(limit=limit):\n",
        "        posts.append([post.title, post.selftext])\n",
        "\n",
        "    df = pd.DataFrame(posts, columns=['Title', 'Content'])\n",
        "    await reddit.close()\n",
        "    return df\n",
        "\n",
        "def analyze_sentiment(df):\n",
        "    sia = SentimentIntensityAnalyzer()\n",
        "\n",
        "    def get_sentiment(text):\n",
        "        score = sia.polarity_scores(text)['compound']\n",
        "        if score >= 0.05:\n",
        "            return 'Positive'\n",
        "        elif score <= -0.05:\n",
        "            return 'Negative'\n",
        "        else:\n",
        "            return 'Neutral'\n",
        "\n",
        "    df['Sentiment'] = df['Title'].apply(get_sentiment)\n",
        "    return df\n",
        "\n",
        "def visualize_sentiment(df):\n",
        "    sns.set(style=\"darkgrid\")\n",
        "    plt.figure(figsize=(8, 5))\n",
        "    sns.countplot(x=df['Sentiment'], palette='coolwarm')\n",
        "    plt.title('Sentiment Analysis of Reddit Posts')\n",
        "    plt.xlabel('Sentiment')\n",
        "    plt.ylabel('Count')\n",
        "    plt.show()\n",
        "\n",
        "def save_model():\n",
        "    sia = SentimentIntensityAnalyzer()\n",
        "    with open('sentiment_model.pkl', 'wb') as file:\n",
        "        pickle.dump(sia, file)\n",
        "\n",
        "if __name__ == \"__main__\":\n",
        "    subreddit_name = input(\"Enter subreddit name: \")\n",
        "    loop = asyncio.get_event_loop()\n",
        "    df = loop.run_until_complete(fetch_reddit_data(subreddit_name))\n",
        "    df = analyze_sentiment(df)\n",
        "    print(df.head())\n",
        "    visualize_sentiment(df)\n",
        "    save_model()\n",
        "    print(\"Model saved successfully!\")\n"
      ],
      "metadata": {
        "colab": {
          "base_uri": "https://localhost:8080/",
          "height": 909
        },
        "id": "OWGd35KHWyA0",
        "outputId": "ed703f74-89b6-4469-9c0e-aed4ffb3385e"
      },
      "execution_count": 11,
      "outputs": [
        {
          "output_type": "stream",
          "name": "stderr",
          "text": [
            "[nltk_data] Downloading package vader_lexicon to /root/nltk_data...\n",
            "[nltk_data]   Package vader_lexicon is already up-to-date!\n"
          ]
        },
        {
          "output_type": "stream",
          "name": "stdout",
          "text": [
            "Enter subreddit name: crypto\n",
            "                                               Title  \\\n",
            "0       [Meta] Regarding the future of the subreddit   \n",
            "1  Crypto is not cryptocurrency - Welcome to the ...   \n",
            "2  Apple turns off data protection in the UK rath...   \n",
            "3  Probe Security Without Identification - Anonym...   \n",
            "4  How far can i push close-source code towards b...   \n",
            "\n",
            "                                             Content Sentiment  \n",
            "0  A bit late notice compared to a lot of the oth...   Neutral  \n",
            "1                                                     Negative  \n",
            "2                                                      Neutral  \n",
            "3                                                     Positive  \n",
            "4  im familiar with Kerckhoffs principle and the ...   Neutral  \n"
          ]
        },
        {
          "output_type": "stream",
          "name": "stderr",
          "text": [
            "<ipython-input-11-798654fe166a>:52: FutureWarning: \n",
            "\n",
            "Passing `palette` without assigning `hue` is deprecated and will be removed in v0.14.0. Assign the `x` variable to `hue` and set `legend=False` for the same effect.\n",
            "\n",
            "  sns.countplot(x=df['Sentiment'], palette='coolwarm')\n"
          ]
        },
        {
          "output_type": "display_data",
          "data": {
            "text/plain": [
              "<Figure size 800x500 with 1 Axes>"
            ],
            "image/png": "[encoded data removed]"
          },
          "metadata": {}
        },
        {
          "output_type": "stream",
          "name": "stdout",
          "text": [
            "Model saved successfully!\n"
          ]
        }
      ]
    },
    {
      "cell_type": "code",
      "source": [],
      "metadata": {
        "id": "-AFpj4-TZqpB"
      },
      "execution_count": null,
      "outputs": []
    }
  ]
}